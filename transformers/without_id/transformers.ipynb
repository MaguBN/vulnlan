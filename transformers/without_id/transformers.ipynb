{
 "cells": [
  {
   "cell_type": "code",
   "execution_count": 1,
   "metadata": {},
   "outputs": [],
   "source": [
    "# %pip install --upgrade transformers\n",
    "# %pip install datasets\n",
    "# %pip install accelerate\n",
    "# %pip install transformers[sentencepiece]\n",
    "# %pip install torch==2.6.0 torchvision==0.21.0 torchaudio==2.6.0 --index-url https://download.pytorch.org/whl/cu126\n",
    "# %pip install scikit-learn\n",
    "# %pip install evaluate\n",
    "# %pip install nltk\n",
    "# %pip install pandas\n",
    "# %pip install sklearn\n",
    "# %pip install matplotlib\n",
    "# %pip install optuna"
   ]
  },
  {
   "cell_type": "code",
   "execution_count": 2,
   "metadata": {},
   "outputs": [
    {
     "name": "stdout",
     "output_type": "stream",
     "text": [
      "Is CUDA available: True\n",
      "Number of GPUs available: 1\n",
      "Current GPU: 0\n",
      "GPU Name: NVIDIA GeForce RTX 3060 Ti\n",
      "2.6.0+cu126\n",
      "12.6\n",
      "True\n"
     ]
    }
   ],
   "source": [
    "import torch\n",
    "print(\"Is CUDA available:\", torch.cuda.is_available())\n",
    "print(\"Number of GPUs available:\", torch.cuda.device_count())\n",
    "print(\"Current GPU:\", torch.cuda.current_device())\n",
    "print(\"GPU Name:\", torch.cuda.get_device_name(torch.cuda.current_device()) if torch.cuda.is_available() else \"No GPU detected\")\n",
    "print(torch.__version__)\n",
    "print(torch.version.cuda)\n",
    "print(torch.cuda.is_available())"
   ]
  },
  {
   "cell_type": "code",
   "execution_count": 3,
   "metadata": {},
   "outputs": [
    {
     "name": "stderr",
     "output_type": "stream",
     "text": [
      "c:\\Users\\jorge\\Desktop\\vulnlan\\venv\\Lib\\site-packages\\tqdm\\auto.py:21: TqdmWarning: IProgress not found. Please update jupyter and ipywidgets. See https://ipywidgets.readthedocs.io/en/stable/user_install.html\n",
      "  from .autonotebook import tqdm as notebook_tqdm\n"
     ]
    }
   ],
   "source": [
    "import pandas as pd\n",
    "from sklearn.model_selection import train_test_split\n",
    "from sklearn.metrics import accuracy_score, precision_recall_fscore_support\n",
    "from sklearn.metrics import confusion_matrix, ConfusionMatrixDisplay\n",
    "from transformers import AutoTokenizer\n",
    "import torch\n",
    "from transformers import AutoModelForSequenceClassification\n",
    "from transformers import Trainer, TrainingArguments\n",
    "import matplotlib.pyplot as plt"
   ]
  },
  {
   "cell_type": "code",
   "execution_count": 4,
   "metadata": {},
   "outputs": [
    {
     "name": "stdout",
     "output_type": "stream",
     "text": [
      "Train: 400, Val: 50, Test: 100\n",
      "Test set balance -> vuln: 50, nvuln: 50\n"
     ]
    }
   ],
   "source": [
    "seed = 13\n",
    "\n",
    "# Carregar ficheiros por classe\n",
    "nvuln_df = pd.concat([\n",
    "    pd.read_csv('../../data/csv/train_sem_id_il_nvuln.csv'),\n",
    "    pd.read_csv('../../data/csv/test_sem_id_il_nvuln.csv')\n",
    "], ignore_index=True)\n",
    "\n",
    "vuln_df = pd.concat([\n",
    "    pd.read_csv('../../data/csv/train_sem_id_il_vuln.csv'),\n",
    "    pd.read_csv('../../data/csv/test_sem_id_il_vuln.csv')\n",
    "], ignore_index=True)\n",
    "\n",
    "# Baralhar dentro de cada classe\n",
    "nvuln_df = nvuln_df.sample(frac=1, random_state=seed).reset_index(drop=True)\n",
    "vuln_df  = vuln_df.sample(frac=1, random_state=seed).reset_index(drop=True)\n",
    "\n",
    "# Separar teste equilibrado: 50 de cada classe\n",
    "test_nvuln = nvuln_df.iloc[:50]\n",
    "test_vuln  = vuln_df.iloc[:50]\n",
    "test_df = pd.concat([test_nvuln, test_vuln], ignore_index=True).sample(frac=1, random_state=seed).reset_index(drop=True)\n",
    "\n",
    "# Resto dos dados (para treino+validação)\n",
    "nvuln_rest = nvuln_df.iloc[50:]\n",
    "vuln_rest  = vuln_df.iloc[50:]\n",
    "full_rest = pd.concat([nvuln_rest, vuln_rest], ignore_index=True).sample(frac=1, random_state=seed).reset_index(drop=True)\n",
    "\n",
    "# Split treino (400) e validação (50)\n",
    "train_df = full_rest.iloc[:400].reset_index(drop=True)\n",
    "val_df   = full_rest.iloc[400:450].reset_index(drop=True)\n",
    "\n",
    "# Converter labels para inteiros\n",
    "for df in [train_df, val_df, test_df]:\n",
    "    df['vulnerable'] = df['vulnerable'].astype(int)\n",
    "\n",
    "print(f\"Train: {len(train_df)}, Val: {len(val_df)}, Test: {len(test_df)}\")\n",
    "print(f\"Test set balance -> vuln: {sum(test_df['vulnerable']==1)}, nvuln: {sum(test_df['vulnerable']==0)}\")"
   ]
  },
  {
   "cell_type": "code",
   "execution_count": 5,
   "metadata": {},
   "outputs": [],
   "source": [
    "# Choose a pre-trained tokenizer\n",
    "tokenizer = AutoTokenizer.from_pretrained(\"microsoft/codebert-base\")\n",
    "\n",
    "# Tokenize the data\n",
    "def tokenize_function(examples):\n",
    "    return tokenizer(examples['file_content_in_il'], padding='max_length', truncation=True)\n",
    "\n",
    "train_encodings = tokenizer(train_df['file_content_in_il'].tolist(), truncation=True, padding=True)\n",
    "val_encodings = tokenizer(val_df['file_content_in_il'].tolist(), truncation=True, padding=True)\n",
    "test_encodings = tokenizer(test_df['file_content_in_il'].tolist(), truncation=True, padding=True)"
   ]
  },
  {
   "cell_type": "code",
   "execution_count": 6,
   "metadata": {},
   "outputs": [],
   "source": [
    "class CustomDataset(torch.utils.data.Dataset):\n",
    "    def __init__(self, encodings, labels):\n",
    "        self.encodings = encodings\n",
    "        self.labels = labels\n",
    "\n",
    "    def __getitem__(self, idx):\n",
    "        item = {key: torch.tensor(val[idx]) for key, val in self.encodings.items()}\n",
    "        item['labels'] = torch.tensor(self.labels[idx])\n",
    "        return item\n",
    "\n",
    "    def __len__(self):\n",
    "        return len(self.labels)\n",
    "\n",
    "train_dataset = CustomDataset(train_encodings, train_df['vulnerable'].tolist())\n",
    "val_dataset = CustomDataset(val_encodings, val_df['vulnerable'].tolist())\n",
    "test_dataset = CustomDataset(test_encodings, test_df['vulnerable'].tolist())"
   ]
  },
  {
   "cell_type": "code",
   "execution_count": 7,
   "metadata": {},
   "outputs": [
    {
     "name": "stderr",
     "output_type": "stream",
     "text": [
      "Some weights of RobertaForSequenceClassification were not initialized from the model checkpoint at microsoft/codebert-base and are newly initialized: ['classifier.dense.bias', 'classifier.dense.weight', 'classifier.out_proj.bias', 'classifier.out_proj.weight']\n",
      "You should probably TRAIN this model on a down-stream task to be able to use it for predictions and inference.\n"
     ]
    }
   ],
   "source": [
    "# Choose a pre-trained model\n",
    "model = AutoModelForSequenceClassification.from_pretrained(\"microsoft/codebert-base\", num_labels=2)"
   ]
  },
  {
   "cell_type": "code",
   "execution_count": 8,
   "metadata": {},
   "outputs": [
    {
     "name": "stderr",
     "output_type": "stream",
     "text": [
      "C:\\Users\\jorge\\AppData\\Local\\Temp\\ipykernel_7408\\2759197701.py:30: FutureWarning: `tokenizer` is deprecated and will be removed in version 5.0.0 for `Trainer.__init__`. Use `processing_class` instead.\n",
      "  trainer = Trainer(\n"
     ]
    },
    {
     "data": {
      "text/html": [
       "\n",
       "    <div>\n",
       "      \n",
       "      <progress value='800' max='800' style='width:300px; height:20px; vertical-align: middle;'></progress>\n",
       "      [800/800 02:30, Epoch 16/16]\n",
       "    </div>\n",
       "    <table border=\"1\" class=\"dataframe\">\n",
       "  <thead>\n",
       " <tr style=\"text-align: left;\">\n",
       "      <th>Step</th>\n",
       "      <th>Training Loss</th>\n",
       "      <th>Validation Loss</th>\n",
       "      <th>Accuracy</th>\n",
       "      <th>Precision</th>\n",
       "      <th>Recall</th>\n",
       "      <th>F1</th>\n",
       "    </tr>\n",
       "  </thead>\n",
       "  <tbody>\n",
       "    <tr>\n",
       "      <td>100</td>\n",
       "      <td>0.647400</td>\n",
       "      <td>0.260706</td>\n",
       "      <td>0.920000</td>\n",
       "      <td>1.000000</td>\n",
       "      <td>0.826087</td>\n",
       "      <td>0.904762</td>\n",
       "    </tr>\n",
       "    <tr>\n",
       "      <td>200</td>\n",
       "      <td>0.205400</td>\n",
       "      <td>0.081388</td>\n",
       "      <td>0.960000</td>\n",
       "      <td>0.956522</td>\n",
       "      <td>0.956522</td>\n",
       "      <td>0.956522</td>\n",
       "    </tr>\n",
       "    <tr>\n",
       "      <td>300</td>\n",
       "      <td>0.153200</td>\n",
       "      <td>0.108137</td>\n",
       "      <td>0.960000</td>\n",
       "      <td>1.000000</td>\n",
       "      <td>0.913043</td>\n",
       "      <td>0.954545</td>\n",
       "    </tr>\n",
       "    <tr>\n",
       "      <td>400</td>\n",
       "      <td>0.145000</td>\n",
       "      <td>0.156231</td>\n",
       "      <td>0.940000</td>\n",
       "      <td>0.954545</td>\n",
       "      <td>0.913043</td>\n",
       "      <td>0.933333</td>\n",
       "    </tr>\n",
       "    <tr>\n",
       "      <td>500</td>\n",
       "      <td>0.135400</td>\n",
       "      <td>0.217366</td>\n",
       "      <td>0.940000</td>\n",
       "      <td>0.954545</td>\n",
       "      <td>0.913043</td>\n",
       "      <td>0.933333</td>\n",
       "    </tr>\n",
       "    <tr>\n",
       "      <td>600</td>\n",
       "      <td>0.138800</td>\n",
       "      <td>0.338995</td>\n",
       "      <td>0.940000</td>\n",
       "      <td>0.954545</td>\n",
       "      <td>0.913043</td>\n",
       "      <td>0.933333</td>\n",
       "    </tr>\n",
       "    <tr>\n",
       "      <td>700</td>\n",
       "      <td>0.123500</td>\n",
       "      <td>0.302029</td>\n",
       "      <td>0.940000</td>\n",
       "      <td>0.954545</td>\n",
       "      <td>0.913043</td>\n",
       "      <td>0.933333</td>\n",
       "    </tr>\n",
       "    <tr>\n",
       "      <td>800</td>\n",
       "      <td>0.125000</td>\n",
       "      <td>0.317125</td>\n",
       "      <td>0.940000</td>\n",
       "      <td>0.954545</td>\n",
       "      <td>0.913043</td>\n",
       "      <td>0.933333</td>\n",
       "    </tr>\n",
       "  </tbody>\n",
       "</table><p>"
      ],
      "text/plain": [
       "<IPython.core.display.HTML object>"
      ]
     },
     "metadata": {},
     "output_type": "display_data"
    }
   ],
   "source": [
    "def compute_metrics(p):\n",
    "    preds = p.predictions.argmax(-1)\n",
    "    labels = p.label_ids\n",
    "    precision, recall, f1, _ = precision_recall_fscore_support(labels, preds, average='binary')\n",
    "    acc = accuracy_score(labels, preds)\n",
    "    return {\n",
    "        'accuracy': acc,\n",
    "        'precision': precision,\n",
    "        'recall': recall,\n",
    "        'f1': f1,\n",
    "    }\n",
    "\n",
    "tokenizer.pad_token = tokenizer.eos_token\n",
    "model.config.pad_token_id = tokenizer.pad_token_id\n",
    "\n",
    "training_args = TrainingArguments(   \n",
    "    num_train_epochs=4,              \n",
    "    per_device_train_batch_size=8,   \n",
    "    per_device_eval_batch_size=8,    \n",
    "    warmup_steps=100,                \n",
    "    weight_decay=0.001,\n",
    "    learning_rate=1e-5,              \n",
    "    eval_strategy=\"steps\",\n",
    "    eval_steps=100,\n",
    "    max_steps=800,\n",
    "    logging_dir='./logs',\n",
    "    logging_steps=100,  \n",
    ")\n",
    "\n",
    "trainer = Trainer(\n",
    "    model=model,                         \n",
    "    args=training_args,                  \n",
    "    train_dataset=train_dataset,         \n",
    "    eval_dataset=val_dataset,            \n",
    "    compute_metrics=compute_metrics,\n",
    "    tokenizer=tokenizer      \n",
    ")\n",
    "\n",
    "device = torch.device(\"cuda\" if torch.cuda.is_available() else \"cpu\")\n",
    "trainer.model.to(device)\n",
    "trainer.train()\n",
    "\n",
    "final_model_save_path = \"./transformer_model/\" # Um diretório para o modelo final\n",
    "trainer.save_model(final_model_save_path)"
   ]
  },
  {
   "cell_type": "code",
   "execution_count": 9,
   "metadata": {},
   "outputs": [
    {
     "data": {
      "image/png": "[encoded data removed]",
      "text/plain": [
       "<Figure size 800x500 with 1 Axes>"
      ]
     },
     "metadata": {},
     "output_type": "display_data"
    }
   ],
   "source": [
    "import matplotlib.pyplot as plt\n",
    "\n",
    "# Obter os logs do treino\n",
    "logs = trainer.state.log_history\n",
    "\n",
    "# Separar training loss e validation loss por época\n",
    "step_checkpoint = []\n",
    "train_losses = []\n",
    "val_losses = []\n",
    "\n",
    "for log in logs:\n",
    "    if \"loss\" in log:  # Loss de treino\n",
    "        train_losses.append(log[\"loss\"])\n",
    "    if \"eval_loss\" in log:  # Loss de validação\n",
    "        val_losses.append(log[\"eval_loss\"])\n",
    "        step_checkpoint.append(len(val_losses))  # Cada avaliação ocorre no final de uma época\n",
    "\n",
    "# Criar gráfico de Loss\n",
    "plt.figure(figsize=(8, 5))\n",
    "plt.plot(step_checkpoint, train_losses, label=\"Training Loss\", marker=\"o\")\n",
    "plt.plot(step_checkpoint, val_losses, label=\"Validation Loss\", marker=\"o\")\n",
    "plt.xlabel(\"Step (x100)\")\n",
    "plt.ylabel(\"Loss\")\n",
    "plt.legend()\n",
    "plt.grid()\n",
    "plt.show()"
   ]
  },
  {
   "cell_type": "code",
   "execution_count": 10,
   "metadata": {},
   "outputs": [
    {
     "data": {
      "text/html": [],
      "text/plain": [
       "<IPython.core.display.HTML object>"
      ]
     },
     "metadata": {},
     "output_type": "display_data"
    },
    {
     "data": {
      "text/plain": [
       "<sklearn.metrics._plot.confusion_matrix.ConfusionMatrixDisplay at 0x2b239b7b9b0>"
      ]
     },
     "execution_count": 10,
     "metadata": {},
     "output_type": "execute_result"
    },
    {
     "data": {
      "image/png": "[encoded data removed]",
      "text/plain": [
       "<Figure size 640x480 with 2 Axes>"
      ]
     },
     "metadata": {},
     "output_type": "display_data"
    }
   ],
   "source": [
    "test_outputs = trainer.predict(test_dataset)\n",
    "predicted_labels = test_outputs.predictions.argmax(axis=1)\n",
    "\n",
    "# Verdadeiros rótulos do conjunto de teste\n",
    "true_labels = test_outputs.label_ids\n",
    "\n",
    "# Gerar a matriz de confusão\n",
    "conf_matrix = confusion_matrix(true_labels, predicted_labels)\n",
    "\n",
    "# Exibir a matriz de confusão\n",
    "disp = ConfusionMatrixDisplay(confusion_matrix=conf_matrix, display_labels=[\"Não Vulnerável\", \"Vulnerável\"])\n",
    "disp.plot(cmap=\"Blues\")\n",
    "\n",
    "# # Evaluate the model on the validation set\n",
    "# val_results = trainer.evaluate()\n",
    "# print(\"Validation Results:\", val_results)\n",
    "\n",
    "# # Evaluate the model on the test set\n",
    "# test_results = trainer.evaluate(test_dataset)\n",
    "# print(\"Test Results:\", test_results)"
   ]
  },
  {
   "cell_type": "code",
   "execution_count": 11,
   "metadata": {},
   "outputs": [
    {
     "name": "stdout",
     "output_type": "stream",
     "text": [
      "Accuracy: 0.94000\n",
      "Precision 0.94000\n",
      "Recall: 0.94000\n",
      "F1-Score: 0.94000\n"
     ]
    }
   ],
   "source": [
    "accuracy = (conf_matrix[0, 0] + conf_matrix[1, 1]) / conf_matrix.sum()\n",
    "precision = conf_matrix[1, 1] / (conf_matrix[1, 1] + conf_matrix[0, 1])  # VP / (VP + FP)\n",
    "recall = conf_matrix[1, 1] / (conf_matrix[1, 1] + conf_matrix[1, 0])     # VP / (VP + FN)\n",
    "f1_score = 2 * (precision * recall) / (precision + recall)\n",
    "\n",
    "print(f\"Accuracy: {accuracy:.5f}\")\n",
    "print(f\"Precision {precision:.5f}\")\n",
    "print(f\"Recall: {recall:.5f}\")\n",
    "print(f\"F1-Score: {f1_score:.5f}\")"
   ]
  },
  {
   "cell_type": "code",
   "execution_count": 12,
   "metadata": {},
   "outputs": [
    {
     "name": "stdout",
     "output_type": "stream",
     "text": [
      "Wrong predictions saved to wrong_predictions.csv\n"
     ]
    }
   ],
   "source": [
    "# Check wrong predictions\n",
    "test_df['predicted'] = predicted_labels\n",
    "wrong_predictions = test_df[test_df['vulnerable'] != test_df['predicted']]\n",
    "\n",
    "# Save the wrong predictions\n",
    "wrong_predictions.to_csv('wrong_predictions_codebert.csv', index=False)\n",
    "print(\"Wrong predictions saved to wrong_predictions.csv\")\n"
   ]
  },
  {
   "cell_type": "code",
   "execution_count": 13,
   "metadata": {},
   "outputs": [],
   "source": [
    "torch.cuda.empty_cache()\n",
    "# Delete model logs\n",
    "# if os.path.exists('./logs'):\n",
    "#     import shutil\n",
    "#     shutil.rmtree('./logs')\n",
    "# Delete trainer_output\n",
    "import shutil\n",
    "import os\n",
    "if os.path.exists('./trainer_output'):\n",
    "    shutil.rmtree('./trainer_output')"
   ]
  },
  {
   "cell_type": "code",
   "execution_count": 14,
   "metadata": {},
   "outputs": [
    {
     "data": {
      "text/plain": [
       "'\\nfrom sklearn.model_selection import KFold\\nfrom sklearn.metrics import make_scorer, precision_recall_fscore_support\\nfrom transformers import TrainingArguments, Trainer, AutoModelForSequenceClassification\\n\\n# Define the parameter grid\\nparam_grid = {\\n    \\'learning_rate\\': [5e-5, 3e-5, 2e-5],\\n    \\'per_device_train_batch_size\\': [8, 16],\\n    \\'num_train_epochs\\': [3, 4],\\n    \\'weight_decay\\': [0.0, 0.01]\\n}\\n\\n# Define a custom scoring function\\ndef custom_scorer(y_true, y_pred):\\n    precision, recall, f1, _ = precision_recall_fscore_support(y_true, y_pred, average=\\'binary\\')\\n    return f1\\n\\nscorer = make_scorer(custom_scorer, greater_is_better=True)\\n\\n# Implement nested cross-validation\\nouter_cv = 5\\ninner_cv = 3\\n\\nbest_params = None\\nbest_score = 0\\n\\nfor train_idx, test_idx in KFold(n_splits=outer_cv).split(train_df):\\n    train_data = train_df.iloc[train_idx]\\n    test_data = train_df.iloc[test_idx]\\n\\n    for learning_rate in param_grid[\\'learning_rate\\']:\\n        for batch_size in param_grid[\\'per_device_train_batch_size\\']:\\n            for num_epochs in param_grid[\\'num_train_epochs\\']:\\n                for weight_decay in param_grid[\\'weight_decay\\']:\\n                    training_args = TrainingArguments(\\n                        output_dir=\\'./results\\',\\n                        evaluation_strategy=\"epoch\",\\n                        learning_rate=learning_rate,\\n                        per_device_train_batch_size=batch_size,\\n                        per_device_eval_batch_size=batch_size,\\n                        num_train_epochs=num_epochs,\\n                        weight_decay=weight_decay,\\n                        logging_dir=\\'./logs\\',\\n                    )\\n\\n                    model = AutoModelForSequenceClassification.from_pretrained(\"microsoft/codebert-base\", num_labels=2)\\n\\n                    trainer = Trainer(\\n                        model=model,\\n                        args=training_args,\\n                        train_dataset=train_data,\\n                        eval_dataset=test_data,\\n                        compute_metrics=compute_metrics\\n                    )\\n\\n                    trainer.train()\\n                    metrics = trainer.evaluate()\\n                    score = metrics[\\'eval_f1\\']\\n\\n                    if score > best_score:\\n                        best_score = score\\n                        best_params = {\\n                            \\'learning_rate\\': learning_rate,\\n                            \\'per_device_train_batch_size\\': batch_size,\\n                            \\'num_train_epochs\\': num_epochs,\\n                            \\'weight_decay\\': weight_decay\\n                        }\\n\\nprint(\"Best Hyperparameters:\", best_params)\\nprint(\"Best Score:\", best_score)\\n'"
      ]
     },
     "execution_count": 14,
     "metadata": {},
     "output_type": "execute_result"
    }
   ],
   "source": [
    "'''\n",
    "from sklearn.model_selection import KFold\n",
    "from sklearn.metrics import make_scorer, precision_recall_fscore_support\n",
    "from transformers import TrainingArguments, Trainer, AutoModelForSequenceClassification\n",
    "\n",
    "# Define the parameter grid\n",
    "param_grid = {\n",
    "    'learning_rate': [5e-5, 3e-5, 2e-5],\n",
    "    'per_device_train_batch_size': [8, 16],\n",
    "    'num_train_epochs': [3, 4],\n",
    "    'weight_decay': [0.0, 0.01]\n",
    "}\n",
    "\n",
    "# Define a custom scoring function\n",
    "def custom_scorer(y_true, y_pred):\n",
    "    precision, recall, f1, _ = precision_recall_fscore_support(y_true, y_pred, average='binary')\n",
    "    return f1\n",
    "\n",
    "scorer = make_scorer(custom_scorer, greater_is_better=True)\n",
    "\n",
    "# Implement nested cross-validation\n",
    "outer_cv = 5\n",
    "inner_cv = 3\n",
    "\n",
    "best_params = None\n",
    "best_score = 0\n",
    "\n",
    "for train_idx, test_idx in KFold(n_splits=outer_cv).split(train_df):\n",
    "    train_data = train_df.iloc[train_idx]\n",
    "    test_data = train_df.iloc[test_idx]\n",
    "    \n",
    "    for learning_rate in param_grid['learning_rate']:\n",
    "        for batch_size in param_grid['per_device_train_batch_size']:\n",
    "            for num_epochs in param_grid['num_train_epochs']:\n",
    "                for weight_decay in param_grid['weight_decay']:\n",
    "                    training_args = TrainingArguments(\n",
    "                        output_dir='./results',\n",
    "                        evaluation_strategy=\"epoch\",\n",
    "                        learning_rate=learning_rate,\n",
    "                        per_device_train_batch_size=batch_size,\n",
    "                        per_device_eval_batch_size=batch_size,\n",
    "                        num_train_epochs=num_epochs,\n",
    "                        weight_decay=weight_decay,\n",
    "                        logging_dir='./logs',\n",
    "                    )\n",
    "                    \n",
    "                    model = AutoModelForSequenceClassification.from_pretrained(\"microsoft/codebert-base\", num_labels=2)\n",
    "                    \n",
    "                    trainer = Trainer(\n",
    "                        model=model,\n",
    "                        args=training_args,\n",
    "                        train_dataset=train_data,\n",
    "                        eval_dataset=test_data,\n",
    "                        compute_metrics=compute_metrics\n",
    "                    )\n",
    "                    \n",
    "                    trainer.train()\n",
    "                    metrics = trainer.evaluate()\n",
    "                    score = metrics['eval_f1']\n",
    "                    \n",
    "                    if score > best_score:\n",
    "                        best_score = score\n",
    "                        best_params = {\n",
    "                            'learning_rate': learning_rate,\n",
    "                            'per_device_train_batch_size': batch_size,\n",
    "                            'num_train_epochs': num_epochs,\n",
    "                            'weight_decay': weight_decay\n",
    "                        }\n",
    "\n",
    "print(\"Best Hyperparameters:\", best_params)\n",
    "print(\"Best Score:\", best_score)\n",
    "'''"
   ]
  },
  {
   "cell_type": "code",
   "execution_count": 15,
   "metadata": {},
   "outputs": [
    {
     "data": {
      "text/plain": [
       "PredictionOutput(predictions=array([[ 4.1017275 , -3.4606516 ],\n",
       "       [-3.9921556 ,  3.7290597 ],\n",
       "       [-4.031721  ,  3.718757  ],\n",
       "       [ 4.1151395 , -3.491573  ],\n",
       "       [ 4.0607424 , -3.3933215 ],\n",
       "       [ 3.7696466 , -3.1373851 ],\n",
       "       [ 4.1017275 , -3.4606516 ],\n",
       "       [ 4.1250887 , -3.4392793 ],\n",
       "       [-3.9517658 ,  3.7010005 ],\n",
       "       [-3.8745546 ,  3.6631265 ],\n",
       "       [ 4.1245327 , -3.469096  ],\n",
       "       [-3.909255  ,  3.6655648 ],\n",
       "       [-1.5073255 ,  1.3876641 ],\n",
       "       [-3.969334  ,  3.6638517 ],\n",
       "       [ 4.1017275 , -3.4606516 ],\n",
       "       [ 4.1678896 , -3.4390948 ],\n",
       "       [-3.74915   ,  3.5462883 ],\n",
       "       [ 4.119258  , -3.468049  ],\n",
       "       [-3.9871345 ,  3.7367666 ],\n",
       "       [-4.096722  ,  3.7581608 ],\n",
       "       [ 4.136893  , -3.481625  ],\n",
       "       [ 4.135882  , -3.4708002 ],\n",
       "       [ 2.7132564 , -2.2779493 ],\n",
       "       [-3.7850506 ,  3.517279  ],\n",
       "       [ 4.064039  , -3.4142425 ],\n",
       "       [-3.7850506 ,  3.517279  ],\n",
       "       [ 3.7696466 , -3.1373851 ],\n",
       "       [-3.861396  ,  3.5855634 ],\n",
       "       [-3.920075  ,  3.6548955 ],\n",
       "       [ 4.094121  , -3.4327223 ],\n",
       "       [ 4.135882  , -3.4708002 ],\n",
       "       [ 4.1151395 , -3.491573  ],\n",
       "       [ 4.1261854 , -3.3953645 ],\n",
       "       [ 4.1362696 , -3.508173  ],\n",
       "       [-1.014879  ,  0.91426694],\n",
       "       [-3.968137  ,  3.7066324 ],\n",
       "       [ 4.23831   , -3.4624999 ],\n",
       "       [-3.9283633 ,  3.6378179 ],\n",
       "       [ 4.232965  , -3.44992   ],\n",
       "       [-1.014879  ,  0.91426694],\n",
       "       [-3.6059828 ,  3.4708612 ],\n",
       "       [ 1.0062567 , -0.9092472 ],\n",
       "       [-4.056223  ,  3.7710917 ],\n",
       "       [-3.9490926 ,  3.659457  ],\n",
       "       [ 4.1017275 , -3.4606516 ],\n",
       "       [ 4.1362696 , -3.508173  ],\n",
       "       [-4.0498557 ,  3.7200425 ],\n",
       "       [-3.9517658 ,  3.7010005 ],\n",
       "       [-3.7051463 ,  3.5281627 ],\n",
       "       [ 4.094121  , -3.4327223 ],\n",
       "       [-3.909255  ,  3.6655648 ],\n",
       "       [-3.909255  ,  3.6655648 ],\n",
       "       [ 4.16184   , -3.4912198 ],\n",
       "       [-3.8563807 ,  3.5728104 ],\n",
       "       [ 4.1706543 , -3.4404318 ],\n",
       "       [-3.9551659 ,  3.7000422 ],\n",
       "       [-3.9412613 ,  3.6352737 ],\n",
       "       [ 4.0954986 , -3.4223158 ],\n",
       "       [-3.954328  ,  3.6909637 ],\n",
       "       [ 2.7132564 , -2.2779493 ],\n",
       "       [ 3.6346815 , -3.0765312 ],\n",
       "       [ 4.1103377 , -3.4470944 ],\n",
       "       [-4.007242  ,  3.6704147 ],\n",
       "       [-3.667405  ,  3.5109804 ],\n",
       "       [-3.8733182 ,  3.6652899 ],\n",
       "       [ 4.116819  , -3.386632  ],\n",
       "       [-4.031455  ,  3.7189195 ],\n",
       "       [ 1.0062567 , -0.9092472 ],\n",
       "       [-3.8687837 ,  3.6547978 ],\n",
       "       [ 4.0942426 , -3.4760382 ],\n",
       "       [ 4.121769  , -3.5001328 ],\n",
       "       [-3.909255  ,  3.6655648 ],\n",
       "       [ 4.094121  , -3.4327223 ],\n",
       "       [-3.5464294 ,  3.4154546 ],\n",
       "       [ 4.181734  , -3.4449534 ],\n",
       "       [ 4.1474934 , -3.5219002 ],\n",
       "       [ 4.2119985 , -3.4200118 ],\n",
       "       [ 4.1017275 , -3.4606516 ],\n",
       "       [-3.4756985 ,  3.3674448 ],\n",
       "       [ 4.226133  , -3.4583554 ],\n",
       "       [-4.063913  ,  3.7365274 ],\n",
       "       [ 4.096345  , -3.437932  ],\n",
       "       [ 4.094121  , -3.4327223 ],\n",
       "       [ 4.096486  , -3.4543347 ],\n",
       "       [ 4.1302547 , -3.4716482 ],\n",
       "       [-4.0492086 ,  3.7336626 ],\n",
       "       [-3.9921556 ,  3.7290597 ],\n",
       "       [-3.8048294 ,  3.5752141 ],\n",
       "       [-3.9517658 ,  3.7010005 ],\n",
       "       [-3.6016352 ,  3.4553716 ],\n",
       "       [-3.8769338 ,  3.648916  ],\n",
       "       [ 4.0607424 , -3.3933215 ],\n",
       "       [-4.044416  ,  3.7401602 ],\n",
       "       [-1.5073255 ,  1.3876641 ],\n",
       "       [-3.7347124 ,  3.5585268 ],\n",
       "       [ 4.135882  , -3.4708002 ],\n",
       "       [ 4.16184   , -3.49122   ],\n",
       "       [-3.8359694 ,  3.6037664 ],\n",
       "       [ 2.534466  , -2.1583698 ],\n",
       "       [-3.9800215 ,  3.7244606 ]], dtype=float32), label_ids=array([0, 1, 1, 0, 0, 0, 0, 0, 1, 1, 0, 1, 0, 1, 0, 0, 1, 0, 1, 1, 0, 0,\n",
       "       1, 1, 0, 1, 1, 1, 1, 0, 0, 0, 0, 0, 0, 1, 0, 1, 0, 1, 1, 0, 1, 1,\n",
       "       0, 0, 1, 1, 1, 0, 1, 1, 0, 1, 0, 1, 1, 0, 1, 1, 0, 0, 1, 1, 1, 0,\n",
       "       1, 0, 1, 0, 0, 1, 0, 1, 0, 0, 0, 0, 1, 0, 1, 0, 0, 0, 0, 1, 1, 1,\n",
       "       1, 1, 1, 0, 1, 0, 1, 0, 0, 1, 0, 1]), metrics={'test_loss': 0.2533496618270874, 'test_accuracy': 0.94, 'test_precision': 0.94, 'test_recall': 0.94, 'test_f1': 0.94, 'test_runtime': 0.6211, 'test_samples_per_second': 161.01, 'test_steps_per_second': 20.931})"
      ]
     },
     "execution_count": 15,
     "metadata": {},
     "output_type": "execute_result"
    }
   ],
   "source": [
    "test_outputs"
   ]
  }
 ],
 "metadata": {
  "kernelspec": {
   "display_name": "venv",
   "language": "python",
   "name": "python3"
  },
  "language_info": {
   "codemirror_mode": {
    "name": "ipython",
    "version": 3
   },
   "file_extension": ".py",
   "mimetype": "text/x-python",
   "name": "python",
   "nbconvert_exporter": "python",
   "pygments_lexer": "ipython3",
   "version": "3.12.4"
  }
 },
 "nbformat": 4,
 "nbformat_minor": 2
}
