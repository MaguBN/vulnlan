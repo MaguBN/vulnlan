{
 "cells": [
  {
   "cell_type": "code",
   "execution_count": 1,
   "metadata": {},
   "outputs": [],
   "source": [
    "# %pip install --upgrade transformers\n",
    "# %pip install datasets\n",
    "# %pip install accelerate\n",
    "# %pip install transformers[sentencepiece]\n",
    "# %pip install torch==2.6.0 torchvision==0.21.0 torchaudio==2.6.0 --index-url https://download.pytorch.org/whl/cu126\n",
    "# %pip install scikit-learn\n",
    "# %pip install evaluate\n",
    "# %pip install nltk\n",
    "# %pip install pandas\n",
    "# %pip install sklearn\n",
    "# %pip install matplotlib\n",
    "# %pip install optuna"
   ]
  },
  {
   "cell_type": "code",
   "execution_count": 2,
   "metadata": {},
   "outputs": [
    {
     "name": "stdout",
     "output_type": "stream",
     "text": [
      "Is CUDA available: True\n",
      "Number of GPUs available: 1\n",
      "Current GPU: 0\n",
      "GPU Name: NVIDIA GeForce RTX 3060 Ti\n",
      "2.6.0+cu126\n",
      "12.6\n",
      "True\n"
     ]
    }
   ],
   "source": [
    "import torch\n",
    "print(\"Is CUDA available:\", torch.cuda.is_available())\n",
    "print(\"Number of GPUs available:\", torch.cuda.device_count())\n",
    "print(\"Current GPU:\", torch.cuda.current_device())\n",
    "print(\"GPU Name:\", torch.cuda.get_device_name(torch.cuda.current_device()) if torch.cuda.is_available() else \"No GPU detected\")\n",
    "print(torch.__version__)\n",
    "print(torch.version.cuda)\n",
    "print(torch.cuda.is_available())"
   ]
  },
  {
   "cell_type": "code",
   "execution_count": 3,
   "metadata": {},
   "outputs": [
    {
     "name": "stderr",
     "output_type": "stream",
     "text": [
      "c:\\Users\\jorge\\Desktop\\vulnlan\\venv\\Lib\\site-packages\\tqdm\\auto.py:21: TqdmWarning: IProgress not found. Please update jupyter and ipywidgets. See https://ipywidgets.readthedocs.io/en/stable/user_install.html\n",
      "  from .autonotebook import tqdm as notebook_tqdm\n"
     ]
    }
   ],
   "source": [
    "import pandas as pd\n",
    "from sklearn.model_selection import train_test_split\n",
    "from sklearn.metrics import accuracy_score, precision_recall_fscore_support\n",
    "from sklearn.metrics import confusion_matrix, ConfusionMatrixDisplay\n",
    "from transformers import AutoTokenizer\n",
    "import torch\n",
    "from transformers import AutoModelForSequenceClassification\n",
    "from transformers import Trainer, TrainingArguments\n",
    "import matplotlib.pyplot as plt"
   ]
  },
  {
   "cell_type": "code",
   "execution_count": 4,
   "metadata": {},
   "outputs": [],
   "source": [
    "# Load your individual dataframes\n",
    "train_nvuln_df = pd.read_csv('../../data/csv/train_com_id_il_nvuln.csv')\n",
    "train_vuln_df = pd.read_csv('../../data/csv/train_com_id_il_vuln.csv')\n",
    "\n",
    "test_nvuln_df = pd.read_csv('../../data/csv/test_com_id_il_nvuln.csv')\n",
    "test_vuln_df = pd.read_csv('../../data/csv/test_com_id_il_vuln.csv')\n",
    "\n",
    "# 1. Concatenate them (stack rows on top of each other)\n",
    "# Ensure to apply the initial shuffle correctly to the combined sets\n",
    "train_df = pd.concat([train_nvuln_df, train_vuln_df], ignore_index=True).sample(frac=1, random_state=42).reset_index(drop=True)\n",
    "test_df = pd.concat([test_nvuln_df, test_vuln_df], ignore_index=True).sample(frac=1, random_state=42).reset_index(drop=True)\n",
    "\n",
    "# Split the training data into training and validation sets\n",
    "train_df, val_df = train_test_split(train_df, test_size=1/9, random_state=42, shuffle=True)\n",
    "\n",
    "# Convert the labels to integers\n",
    "train_df['vulnerable'] = train_df['vulnerable'].astype(int)\n",
    "val_df['vulnerable'] = val_df['vulnerable'].astype(int)\n",
    "test_df['vulnerable'] = test_df['vulnerable'].astype(int)"
   ]
  },
  {
   "cell_type": "code",
   "execution_count": 5,
   "metadata": {},
   "outputs": [],
   "source": [
    "# Choose a pre-trained tokenizer\n",
    "tokenizer = AutoTokenizer.from_pretrained(\"microsoft/codebert-base\")\n",
    "\n",
    "# Tokenize the data\n",
    "def tokenize_function(examples):\n",
    "    return tokenizer(examples['file_content_in_il'], padding='max_length', truncation=True)\n",
    "\n",
    "train_encodings = tokenizer(train_df['file_content_in_il'].tolist(), truncation=True, padding=True)\n",
    "val_encodings = tokenizer(val_df['file_content_in_il'].tolist(), truncation=True, padding=True)\n",
    "test_encodings = tokenizer(test_df['file_content_in_il'].tolist(), truncation=True, padding=True)"
   ]
  },
  {
   "cell_type": "code",
   "execution_count": 6,
   "metadata": {},
   "outputs": [],
   "source": [
    "class CustomDataset(torch.utils.data.Dataset):\n",
    "    def __init__(self, encodings, labels):\n",
    "        self.encodings = encodings\n",
    "        self.labels = labels\n",
    "\n",
    "    def __getitem__(self, idx):\n",
    "        item = {key: torch.tensor(val[idx]) for key, val in self.encodings.items()}\n",
    "        item['labels'] = torch.tensor(self.labels[idx])\n",
    "        return item\n",
    "\n",
    "    def __len__(self):\n",
    "        return len(self.labels)\n",
    "\n",
    "train_dataset = CustomDataset(train_encodings, train_df['vulnerable'].tolist())\n",
    "val_dataset = CustomDataset(val_encodings, val_df['vulnerable'].tolist())\n",
    "test_dataset = CustomDataset(test_encodings, test_df['vulnerable'].tolist())"
   ]
  },
  {
   "cell_type": "code",
   "execution_count": 7,
   "metadata": {},
   "outputs": [
    {
     "name": "stderr",
     "output_type": "stream",
     "text": [
      "Some weights of RobertaForSequenceClassification were not initialized from the model checkpoint at microsoft/graphcodebert-base and are newly initialized: ['classifier.dense.bias', 'classifier.dense.weight', 'classifier.out_proj.bias', 'classifier.out_proj.weight']\n",
      "You should probably TRAIN this model on a down-stream task to be able to use it for predictions and inference.\n"
     ]
    }
   ],
   "source": [
    "# Choose a pre-trained model\n",
    "model = AutoModelForSequenceClassification.from_pretrained(\"microsoft/graphcodebert-base\", num_labels=2)"
   ]
  },
  {
   "cell_type": "code",
   "execution_count": 8,
   "metadata": {},
   "outputs": [
    {
     "name": "stderr",
     "output_type": "stream",
     "text": [
      "C:\\Users\\jorge\\AppData\\Local\\Temp\\ipykernel_13380\\1236821450.py:30: FutureWarning: `tokenizer` is deprecated and will be removed in version 5.0.0 for `Trainer.__init__`. Use `processing_class` instead.\n",
      "  trainer = Trainer(\n"
     ]
    },
    {
     "data": {
      "text/html": [
       "\n",
       "    <div>\n",
       "      \n",
       "      <progress value='800' max='800' style='width:300px; height:20px; vertical-align: middle;'></progress>\n",
       "      [800/800 04:45, Epoch 8/8]\n",
       "    </div>\n",
       "    <table border=\"1\" class=\"dataframe\">\n",
       "  <thead>\n",
       " <tr style=\"text-align: left;\">\n",
       "      <th>Step</th>\n",
       "      <th>Training Loss</th>\n",
       "      <th>Validation Loss</th>\n",
       "      <th>Accuracy</th>\n",
       "      <th>Precision</th>\n",
       "      <th>Recall</th>\n",
       "      <th>F1</th>\n",
       "    </tr>\n",
       "  </thead>\n",
       "  <tbody>\n",
       "    <tr>\n",
       "      <td>100</td>\n",
       "      <td>0.602700</td>\n",
       "      <td>0.416171</td>\n",
       "      <td>0.840000</td>\n",
       "      <td>0.948718</td>\n",
       "      <td>0.725490</td>\n",
       "      <td>0.822222</td>\n",
       "    </tr>\n",
       "    <tr>\n",
       "      <td>200</td>\n",
       "      <td>0.252300</td>\n",
       "      <td>0.319284</td>\n",
       "      <td>0.900000</td>\n",
       "      <td>1.000000</td>\n",
       "      <td>0.803922</td>\n",
       "      <td>0.891304</td>\n",
       "    </tr>\n",
       "    <tr>\n",
       "      <td>300</td>\n",
       "      <td>0.164400</td>\n",
       "      <td>0.211713</td>\n",
       "      <td>0.910000</td>\n",
       "      <td>1.000000</td>\n",
       "      <td>0.823529</td>\n",
       "      <td>0.903226</td>\n",
       "    </tr>\n",
       "    <tr>\n",
       "      <td>400</td>\n",
       "      <td>0.157500</td>\n",
       "      <td>0.386122</td>\n",
       "      <td>0.900000</td>\n",
       "      <td>1.000000</td>\n",
       "      <td>0.803922</td>\n",
       "      <td>0.891304</td>\n",
       "    </tr>\n",
       "    <tr>\n",
       "      <td>500</td>\n",
       "      <td>0.142700</td>\n",
       "      <td>0.231934</td>\n",
       "      <td>0.900000</td>\n",
       "      <td>1.000000</td>\n",
       "      <td>0.803922</td>\n",
       "      <td>0.891304</td>\n",
       "    </tr>\n",
       "    <tr>\n",
       "      <td>600</td>\n",
       "      <td>0.136600</td>\n",
       "      <td>0.344863</td>\n",
       "      <td>0.900000</td>\n",
       "      <td>1.000000</td>\n",
       "      <td>0.803922</td>\n",
       "      <td>0.891304</td>\n",
       "    </tr>\n",
       "    <tr>\n",
       "      <td>700</td>\n",
       "      <td>0.128000</td>\n",
       "      <td>0.333278</td>\n",
       "      <td>0.900000</td>\n",
       "      <td>1.000000</td>\n",
       "      <td>0.803922</td>\n",
       "      <td>0.891304</td>\n",
       "    </tr>\n",
       "    <tr>\n",
       "      <td>800</td>\n",
       "      <td>0.134100</td>\n",
       "      <td>0.323160</td>\n",
       "      <td>0.900000</td>\n",
       "      <td>1.000000</td>\n",
       "      <td>0.803922</td>\n",
       "      <td>0.891304</td>\n",
       "    </tr>\n",
       "  </tbody>\n",
       "</table><p>"
      ],
      "text/plain": [
       "<IPython.core.display.HTML object>"
      ]
     },
     "metadata": {},
     "output_type": "display_data"
    }
   ],
   "source": [
    "def compute_metrics(p):\n",
    "    preds = p.predictions.argmax(-1)\n",
    "    labels = p.label_ids\n",
    "    precision, recall, f1, _ = precision_recall_fscore_support(labels, preds, average='binary')\n",
    "    acc = accuracy_score(labels, preds)\n",
    "    return {\n",
    "        'accuracy': acc,\n",
    "        'precision': precision,\n",
    "        'recall': recall,\n",
    "        'f1': f1,\n",
    "    }\n",
    "\n",
    "tokenizer.pad_token = tokenizer.eos_token\n",
    "model.config.pad_token_id = tokenizer.pad_token_id\n",
    "\n",
    "training_args = TrainingArguments(   \n",
    "    num_train_epochs=4,              \n",
    "    per_device_train_batch_size=8,   \n",
    "    per_device_eval_batch_size=8,    \n",
    "    warmup_steps=100,                \n",
    "    weight_decay=0.001,\n",
    "    learning_rate=1e-5,              \n",
    "    eval_strategy=\"steps\",\n",
    "    eval_steps=100,\n",
    "    max_steps=800,\n",
    "    logging_dir='./logs',\n",
    "    logging_steps=100,  \n",
    ")\n",
    "\n",
    "trainer = Trainer(\n",
    "    model=model,                         \n",
    "    args=training_args,                  \n",
    "    train_dataset=train_dataset,         \n",
    "    eval_dataset=val_dataset,            \n",
    "    compute_metrics=compute_metrics,\n",
    "    tokenizer=tokenizer      \n",
    ")\n",
    "\n",
    "device = torch.device(\"cuda\" if torch.cuda.is_available() else \"cpu\")\n",
    "trainer.model.to(device)\n",
    "trainer.train()\n",
    "\n",
    "final_model_save_path = \"./transformer_gcb_model_id/\" # Um diretório para o modelo final\n",
    "trainer.save_model(final_model_save_path)"
   ]
  },
  {
   "cell_type": "code",
   "execution_count": 9,
   "metadata": {},
   "outputs": [
    {
     "data": {
      "image/png": "[encoded data removed]",
      "text/plain": [
       "<Figure size 800x500 with 1 Axes>"
      ]
     },
     "metadata": {},
     "output_type": "display_data"
    }
   ],
   "source": [
    "import matplotlib.pyplot as plt\n",
    "\n",
    "# Obter os logs do treino\n",
    "logs = trainer.state.log_history\n",
    "\n",
    "# Separar training loss e validation loss por época\n",
    "step_checkpoint = []\n",
    "train_losses = []\n",
    "val_losses = []\n",
    "\n",
    "for log in logs:\n",
    "    if \"loss\" in log:  # Loss de treino\n",
    "        train_losses.append(log[\"loss\"])\n",
    "    if \"eval_loss\" in log:  # Loss de validação\n",
    "        val_losses.append(log[\"eval_loss\"])\n",
    "        step_checkpoint.append(len(val_losses))  # Cada avaliação ocorre no final de uma época\n",
    "\n",
    "# Criar gráfico de Loss\n",
    "plt.figure(figsize=(8, 5))\n",
    "plt.plot(step_checkpoint, train_losses, label=\"Training Loss\", marker=\"o\")\n",
    "plt.plot(step_checkpoint, val_losses, label=\"Validation Loss\", marker=\"o\")\n",
    "plt.xlabel(\"Step (x100)\")\n",
    "plt.ylabel(\"Loss\")\n",
    "plt.legend()\n",
    "plt.grid()\n",
    "plt.show()"
   ]
  },
  {
   "cell_type": "code",
   "execution_count": 10,
   "metadata": {},
   "outputs": [
    {
     "data": {
      "text/html": [],
      "text/plain": [
       "<IPython.core.display.HTML object>"
      ]
     },
     "metadata": {},
     "output_type": "display_data"
    },
    {
     "data": {
      "text/plain": [
       "<sklearn.metrics._plot.confusion_matrix.ConfusionMatrixDisplay at 0x2173fa819a0>"
      ]
     },
     "execution_count": 10,
     "metadata": {},
     "output_type": "execute_result"
    },
    {
     "data": {
      "image/png": "[encoded data removed]",
      "text/plain": [
       "<Figure size 640x480 with 2 Axes>"
      ]
     },
     "metadata": {},
     "output_type": "display_data"
    }
   ],
   "source": [
    "test_outputs = trainer.predict(test_dataset)\n",
    "predicted_labels = test_outputs.predictions.argmax(axis=1)\n",
    "\n",
    "# Verdadeiros rótulos do conjunto de teste\n",
    "true_labels = test_outputs.label_ids\n",
    "\n",
    "# Gerar a matriz de confusão\n",
    "conf_matrix = confusion_matrix(true_labels, predicted_labels)\n",
    "\n",
    "# Exibir a matriz de confusão\n",
    "disp = ConfusionMatrixDisplay(confusion_matrix=conf_matrix, display_labels=[\"Não Vulnerável\", \"Vulnerável\"])\n",
    "disp.plot(cmap=\"Blues\")\n",
    "\n",
    "# # Evaluate the model on the validation set\n",
    "# val_results = trainer.evaluate()\n",
    "# print(\"Validation Results:\", val_results)\n",
    "\n",
    "# # Evaluate the model on the test set\n",
    "# test_results = trainer.evaluate(test_dataset)\n",
    "# print(\"Test Results:\", test_results)"
   ]
  },
  {
   "cell_type": "code",
   "execution_count": 11,
   "metadata": {},
   "outputs": [
    {
     "name": "stdout",
     "output_type": "stream",
     "text": [
      "Accuracy: 0.95000\n",
      "Precision 1.00000\n",
      "Recall: 0.90000\n",
      "F1-Score: 0.94737\n"
     ]
    }
   ],
   "source": [
    "accuracy = (conf_matrix[0, 0] + conf_matrix[1, 1]) / conf_matrix.sum()\n",
    "precision = conf_matrix[1, 1] / (conf_matrix[1, 1] + conf_matrix[0, 1])  # VP / (VP + FP)\n",
    "recall = conf_matrix[1, 1] / (conf_matrix[1, 1] + conf_matrix[1, 0])     # VP / (VP + FN)\n",
    "f1_score = 2 * (precision * recall) / (precision + recall)\n",
    "\n",
    "print(f\"Accuracy: {accuracy:.5f}\")\n",
    "print(f\"Precision {precision:.5f}\")\n",
    "print(f\"Recall: {recall:.5f}\")\n",
    "print(f\"F1-Score: {f1_score:.5f}\")"
   ]
  },
  {
   "cell_type": "code",
   "execution_count": 12,
   "metadata": {},
   "outputs": [
    {
     "name": "stdout",
     "output_type": "stream",
     "text": [
      "Wrong predictions saved to wrong_predictions.csv\n"
     ]
    }
   ],
   "source": [
    "# Check wrong predictions\n",
    "test_df['predicted'] = predicted_labels\n",
    "wrong_predictions = test_df[test_df['vulnerable'] != test_df['predicted']]\n",
    "\n",
    "# Save the wrong predictions\n",
    "wrong_predictions.to_csv('wrong_predictions_graphcodebert.csv', index=False)\n",
    "print(\"Wrong predictions saved to wrong_predictions.csv\")\n"
   ]
  },
  {
   "cell_type": "code",
   "execution_count": 13,
   "metadata": {},
   "outputs": [],
   "source": [
    "torch.cuda.empty_cache()\n",
    "# Delete model logs\n",
    "# if os.path.exists('./logs'):\n",
    "#     import shutil\n",
    "#     shutil.rmtree('./logs')\n",
    "# Delete trainer_output\n",
    "import shutil\n",
    "import os\n",
    "if os.path.exists('./trainer_output'):\n",
    "    shutil.rmtree('./trainer_output')"
   ]
  },
  {
   "cell_type": "code",
   "execution_count": 14,
   "metadata": {},
   "outputs": [
    {
     "data": {
      "text/plain": [
       "'\\nfrom sklearn.model_selection import KFold\\nfrom sklearn.metrics import make_scorer, precision_recall_fscore_support\\nfrom transformers import TrainingArguments, Trainer, AutoModelForSequenceClassification\\n\\n# Define the parameter grid\\nparam_grid = {\\n    \\'learning_rate\\': [5e-5, 3e-5, 2e-5],\\n    \\'per_device_train_batch_size\\': [8, 16],\\n    \\'num_train_epochs\\': [3, 4],\\n    \\'weight_decay\\': [0.0, 0.01]\\n}\\n\\n# Define a custom scoring function\\ndef custom_scorer(y_true, y_pred):\\n    precision, recall, f1, _ = precision_recall_fscore_support(y_true, y_pred, average=\\'binary\\')\\n    return f1\\n\\nscorer = make_scorer(custom_scorer, greater_is_better=True)\\n\\n# Implement nested cross-validation\\nouter_cv = 5\\ninner_cv = 3\\n\\nbest_params = None\\nbest_score = 0\\n\\nfor train_idx, test_idx in KFold(n_splits=outer_cv).split(train_df):\\n    train_data = train_df.iloc[train_idx]\\n    test_data = train_df.iloc[test_idx]\\n\\n    for learning_rate in param_grid[\\'learning_rate\\']:\\n        for batch_size in param_grid[\\'per_device_train_batch_size\\']:\\n            for num_epochs in param_grid[\\'num_train_epochs\\']:\\n                for weight_decay in param_grid[\\'weight_decay\\']:\\n                    training_args = TrainingArguments(\\n                        output_dir=\\'./results\\',\\n                        evaluation_strategy=\"epoch\",\\n                        learning_rate=learning_rate,\\n                        per_device_train_batch_size=batch_size,\\n                        per_device_eval_batch_size=batch_size,\\n                        num_train_epochs=num_epochs,\\n                        weight_decay=weight_decay,\\n                        logging_dir=\\'./logs\\',\\n                    )\\n\\n                    model = AutoModelForSequenceClassification.from_pretrained(\"microsoft/codebert-base\", num_labels=2)\\n\\n                    trainer = Trainer(\\n                        model=model,\\n                        args=training_args,\\n                        train_dataset=train_data,\\n                        eval_dataset=test_data,\\n                        compute_metrics=compute_metrics\\n                    )\\n\\n                    trainer.train()\\n                    metrics = trainer.evaluate()\\n                    score = metrics[\\'eval_f1\\']\\n\\n                    if score > best_score:\\n                        best_score = score\\n                        best_params = {\\n                            \\'learning_rate\\': learning_rate,\\n                            \\'per_device_train_batch_size\\': batch_size,\\n                            \\'num_train_epochs\\': num_epochs,\\n                            \\'weight_decay\\': weight_decay\\n                        }\\n\\nprint(\"Best Hyperparameters:\", best_params)\\nprint(\"Best Score:\", best_score)\\n'"
      ]
     },
     "execution_count": 14,
     "metadata": {},
     "output_type": "execute_result"
    }
   ],
   "source": [
    "'''\n",
    "from sklearn.model_selection import KFold\n",
    "from sklearn.metrics import make_scorer, precision_recall_fscore_support\n",
    "from transformers import TrainingArguments, Trainer, AutoModelForSequenceClassification\n",
    "\n",
    "# Define the parameter grid\n",
    "param_grid = {\n",
    "    'learning_rate': [5e-5, 3e-5, 2e-5],\n",
    "    'per_device_train_batch_size': [8, 16],\n",
    "    'num_train_epochs': [3, 4],\n",
    "    'weight_decay': [0.0, 0.01]\n",
    "}\n",
    "\n",
    "# Define a custom scoring function\n",
    "def custom_scorer(y_true, y_pred):\n",
    "    precision, recall, f1, _ = precision_recall_fscore_support(y_true, y_pred, average='binary')\n",
    "    return f1\n",
    "\n",
    "scorer = make_scorer(custom_scorer, greater_is_better=True)\n",
    "\n",
    "# Implement nested cross-validation\n",
    "outer_cv = 5\n",
    "inner_cv = 3\n",
    "\n",
    "best_params = None\n",
    "best_score = 0\n",
    "\n",
    "for train_idx, test_idx in KFold(n_splits=outer_cv).split(train_df):\n",
    "    train_data = train_df.iloc[train_idx]\n",
    "    test_data = train_df.iloc[test_idx]\n",
    "    \n",
    "    for learning_rate in param_grid['learning_rate']:\n",
    "        for batch_size in param_grid['per_device_train_batch_size']:\n",
    "            for num_epochs in param_grid['num_train_epochs']:\n",
    "                for weight_decay in param_grid['weight_decay']:\n",
    "                    training_args = TrainingArguments(\n",
    "                        output_dir='./results',\n",
    "                        evaluation_strategy=\"epoch\",\n",
    "                        learning_rate=learning_rate,\n",
    "                        per_device_train_batch_size=batch_size,\n",
    "                        per_device_eval_batch_size=batch_size,\n",
    "                        num_train_epochs=num_epochs,\n",
    "                        weight_decay=weight_decay,\n",
    "                        logging_dir='./logs',\n",
    "                    )\n",
    "                    \n",
    "                    model = AutoModelForSequenceClassification.from_pretrained(\"microsoft/codebert-base\", num_labels=2)\n",
    "                    \n",
    "                    trainer = Trainer(\n",
    "                        model=model,\n",
    "                        args=training_args,\n",
    "                        train_dataset=train_data,\n",
    "                        eval_dataset=test_data,\n",
    "                        compute_metrics=compute_metrics\n",
    "                    )\n",
    "                    \n",
    "                    trainer.train()\n",
    "                    metrics = trainer.evaluate()\n",
    "                    score = metrics['eval_f1']\n",
    "                    \n",
    "                    if score > best_score:\n",
    "                        best_score = score\n",
    "                        best_params = {\n",
    "                            'learning_rate': learning_rate,\n",
    "                            'per_device_train_batch_size': batch_size,\n",
    "                            'num_train_epochs': num_epochs,\n",
    "                            'weight_decay': weight_decay\n",
    "                        }\n",
    "\n",
    "print(\"Best Hyperparameters:\", best_params)\n",
    "print(\"Best Score:\", best_score)\n",
    "'''"
   ]
  },
  {
   "cell_type": "code",
   "execution_count": 15,
   "metadata": {},
   "outputs": [
    {
     "data": {
      "text/plain": [
       "PredictionOutput(predictions=array([[-3.6829827 ,  3.6833713 ],\n",
       "       [-3.7369769 ,  3.6704152 ],\n",
       "       [-3.7979147 ,  3.7585914 ],\n",
       "       [ 0.92414254, -0.94709015],\n",
       "       [ 3.3814611 , -3.7745237 ],\n",
       "       [ 3.389726  , -3.768993  ],\n",
       "       [ 2.2731557 , -2.373871  ],\n",
       "       [-3.6852508 ,  3.636757  ],\n",
       "       [ 3.4056857 , -3.6739585 ],\n",
       "       [ 3.3647738 , -3.714764  ],\n",
       "       [ 3.4895267 , -3.7799897 ],\n",
       "       [ 3.5087042 , -3.7287314 ],\n",
       "       [-3.658416  ,  3.4655604 ],\n",
       "       [ 3.4748802 , -3.8168077 ],\n",
       "       [-3.5705419 ,  3.6215758 ],\n",
       "       [ 3.4000678 , -3.7607398 ],\n",
       "       [-3.4707794 ,  3.389075  ],\n",
       "       [-3.4707794 ,  3.389075  ],\n",
       "       [ 3.364558  , -3.7296832 ],\n",
       "       [ 3.5087042 , -3.7287314 ],\n",
       "       [-3.7210305 ,  3.6388664 ],\n",
       "       [-3.5705419 ,  3.6215758 ],\n",
       "       [ 3.4133523 , -3.7843435 ],\n",
       "       [ 3.3788917 , -3.7411995 ],\n",
       "       [-3.6581764 ,  3.4390416 ],\n",
       "       [ 3.434337  , -3.8462365 ],\n",
       "       [ 3.434437  , -3.844121  ],\n",
       "       [-3.8012686 ,  3.5869    ],\n",
       "       [ 3.4056857 , -3.6739585 ],\n",
       "       [ 1.8158991 , -1.8351225 ],\n",
       "       [ 0.9159001 , -0.92954546],\n",
       "       [ 3.3814611 , -3.7745237 ],\n",
       "       [-3.740364  ,  3.661497  ],\n",
       "       [ 3.366136  , -3.7345498 ],\n",
       "       [ 1.069894  , -1.0872402 ],\n",
       "       [ 3.4000678 , -3.7607398 ],\n",
       "       [-3.73055   ,  3.65579   ],\n",
       "       [-3.73055   ,  3.65579   ],\n",
       "       [ 3.3166826 , -3.733603  ],\n",
       "       [ 3.4895267 , -3.7799897 ],\n",
       "       [ 3.427013  , -3.8114545 ],\n",
       "       [ 3.4200969 , -3.7810335 ],\n",
       "       [ 1.028813  , -1.0055119 ],\n",
       "       [-3.8252702 ,  3.779326  ],\n",
       "       [ 3.4267673 , -3.8062375 ],\n",
       "       [ 3.4798377 , -3.7382355 ],\n",
       "       [-3.7016613 ,  3.6378384 ],\n",
       "       [ 3.4741828 , -3.8282158 ],\n",
       "       [-3.8324351 ,  3.7773325 ],\n",
       "       [ 3.364558  , -3.7296832 ],\n",
       "       [ 3.3742645 , -3.780274  ],\n",
       "       [ 3.3786974 , -3.8085914 ],\n",
       "       [ 1.8158991 , -1.8351225 ],\n",
       "       [ 1.069894  , -1.0872402 ],\n",
       "       [ 3.4056857 , -3.6739585 ],\n",
       "       [-3.8152092 ,  3.7484941 ],\n",
       "       [ 3.4124694 , -3.8159828 ],\n",
       "       [-3.8144104 ,  3.6239338 ],\n",
       "       [ 3.3586857 , -3.7357054 ],\n",
       "       [-3.725978  ,  3.766718  ],\n",
       "       [-3.790882  ,  3.6708121 ],\n",
       "       [-3.7800417 ,  3.710014  ],\n",
       "       [-3.6896985 ,  3.619565  ],\n",
       "       [ 3.3814611 , -3.7745237 ],\n",
       "       [-3.8316941 ,  3.7673812 ],\n",
       "       [-3.7783892 ,  3.6401691 ],\n",
       "       [ 3.3814611 , -3.7745237 ],\n",
       "       [-3.7783892 ,  3.6401691 ],\n",
       "       [-3.7807822 ,  3.5694342 ],\n",
       "       [-3.7800417 ,  3.710014  ],\n",
       "       [-3.7571466 ,  3.679296  ],\n",
       "       [ 3.3788917 , -3.7411995 ],\n",
       "       [-3.831382  ,  3.7875195 ],\n",
       "       [ 3.427013  , -3.8114545 ],\n",
       "       [-3.7800417 ,  3.710014  ],\n",
       "       [-3.7483003 ,  3.6782272 ],\n",
       "       [-3.668164  ,  3.627791  ],\n",
       "       [ 3.5087042 , -3.7287314 ],\n",
       "       [-3.7733016 ,  3.622734  ],\n",
       "       [-3.7156806 ,  3.6334946 ],\n",
       "       [-3.8073845 ,  3.7568328 ],\n",
       "       [-3.7098048 ,  3.5070713 ],\n",
       "       [ 3.4614153 , -3.8164115 ],\n",
       "       [ 3.4611459 , -3.8156974 ],\n",
       "       [ 3.447277  , -3.8789456 ],\n",
       "       [-3.813759  ,  3.5835571 ],\n",
       "       [ 3.3809655 , -3.744209  ],\n",
       "       [ 3.5602498 , -3.9014237 ],\n",
       "       [ 3.3742645 , -3.780274  ],\n",
       "       [ 1.1925186 , -1.1641568 ],\n",
       "       [-3.7212842 ,  3.5199337 ],\n",
       "       [ 1.7845882 , -1.8209124 ],\n",
       "       [-3.7515125 ,  3.7630796 ],\n",
       "       [ 1.6895548 , -1.7256827 ],\n",
       "       [ 3.4798377 , -3.7382355 ],\n",
       "       [-3.7085102 ,  3.6682203 ],\n",
       "       [-3.4852328 ,  3.410218  ],\n",
       "       [ 3.5542595 , -3.8984804 ],\n",
       "       [-3.7389836 ,  3.6735682 ],\n",
       "       [-3.8371034 ,  3.7574406 ]], dtype=float32), label_ids=array([1, 1, 1, 0, 0, 0, 0, 1, 0, 0, 0, 0, 1, 0, 1, 0, 1, 1, 0, 0, 1, 1,\n",
       "       0, 0, 1, 0, 0, 1, 0, 1, 0, 0, 1, 0, 1, 0, 1, 1, 0, 0, 0, 0, 0, 1,\n",
       "       0, 0, 1, 0, 1, 0, 0, 0, 0, 0, 0, 1, 0, 1, 0, 1, 1, 1, 1, 0, 1, 1,\n",
       "       0, 1, 1, 1, 1, 0, 1, 0, 1, 1, 1, 0, 1, 1, 1, 1, 0, 0, 0, 1, 0, 0,\n",
       "       0, 1, 1, 1, 1, 1, 0, 1, 1, 0, 1, 1]), metrics={'test_loss': 0.1608952283859253, 'test_accuracy': 0.95, 'test_precision': 1.0, 'test_recall': 0.9, 'test_f1': 0.9473684210526315, 'test_runtime': 1.3481, 'test_samples_per_second': 74.18, 'test_steps_per_second': 9.643})"
      ]
     },
     "execution_count": 15,
     "metadata": {},
     "output_type": "execute_result"
    }
   ],
   "source": [
    "test_outputs"
   ]
  }
 ],
 "metadata": {
  "kernelspec": {
   "display_name": "venv",
   "language": "python",
   "name": "python3"
  },
  "language_info": {
   "codemirror_mode": {
    "name": "ipython",
    "version": 3
   },
   "file_extension": ".py",
   "mimetype": "text/x-python",
   "name": "python",
   "nbconvert_exporter": "python",
   "pygments_lexer": "ipython3",
   "version": "3.12.4"
  }
 },
 "nbformat": 4,
 "nbformat_minor": 2
}
