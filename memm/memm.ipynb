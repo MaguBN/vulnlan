{
 "cells": [
  {
   "cell_type": "code",
   "execution_count": 1,
   "id": "dfbed5dd",
   "metadata": {},
   "outputs": [],
   "source": [
    "import os\n",
    "from sklearn.linear_model import LogisticRegression\n",
    "from sklearn.feature_extraction import DictVectorizer\n",
    "from sklearn.pipeline import Pipeline\n",
    "from sklearn.model_selection import train_test_split\n",
    "from sklearn.metrics import classification_report"
   ]
  },
  {
   "cell_type": "code",
   "execution_count": 2,
   "id": "5e87ec66",
   "metadata": {},
   "outputs": [],
   "source": [
    "def carregar_ficheiros_MEMM(pasta):\n",
    "    sequencias = []\n",
    "    for nome_fich in os.listdir(pasta):\n",
    "        caminho = os.path.join(pasta, nome_fich)\n",
    "        with open(caminho, 'r') as f:\n",
    "            seq = []\n",
    "            for linha in f:\n",
    "                linha = linha.strip()\n",
    "                if not linha:\n",
    "                    continue\n",
    "                tokens = linha.split()\n",
    "                for token in tokens[::-1]:\n",
    "                    if \"::\" not in token:\n",
    "                        continue\n",
    "                    observacao, estado = token.split(\"::\")\n",
    "                    seq.append((observacao, estado))\n",
    "        if seq:\n",
    "            sequencias.append(seq)\n",
    "    return sequencias"
   ]
  },
  {
   "cell_type": "code",
   "execution_count": 3,
   "id": "e04fdf10",
   "metadata": {},
   "outputs": [],
   "source": [
    "def extrair_features_MEMM(sequencias):\n",
    "    X = []\n",
    "    y = []\n",
    "    for seq in sequencias:\n",
    "        estado_anterior = \"START\"\n",
    "        for observacao, estado in seq:\n",
    "            features = {\n",
    "                'observacao': observacao,\n",
    "                'estado_anterior': estado_anterior\n",
    "            }\n",
    "            X.append(features)\n",
    "            y.append(estado)\n",
    "            estado_anterior = estado\n",
    "    return X, y"
   ]
  },
  {
   "cell_type": "code",
   "execution_count": 4,
   "id": "7a3640b6",
   "metadata": {},
   "outputs": [
    {
     "name": "stdout",
     "output_type": "stream",
     "text": [
      "              precision    recall  f1-score   support\n",
      "\n",
      "      ntaint       0.76      0.42      0.54        31\n",
      "         san       1.00      1.00      1.00        17\n",
      "       taint       0.92      0.54      0.68       501\n",
      "         und       0.82      0.98      0.89      1120\n",
      "\n",
      "    accuracy                           0.84      1669\n",
      "   macro avg       0.87      0.73      0.78      1669\n",
      "weighted avg       0.85      0.84      0.82      1669\n",
      "\n"
     ]
    }
   ],
   "source": [
    "pasta_dados = \"PHP2IL/hmm/vuln_grupo_alto_last_ANN\"  \n",
    "\n",
    "sequencias = carregar_ficheiros_MEMM(pasta_dados)\n",
    "\n",
    "X, y = extrair_features_MEMM(sequencias)\n",
    "\n",
    "pipeline = Pipeline([\n",
    "    ('vectorizer', DictVectorizer(sparse=False)),\n",
    "    ('classifier', LogisticRegression(max_iter=200))\n",
    "])\n",
    "\n",
    "X_train, X_test, y_train, y_test = train_test_split(X, y, test_size=0.2)\n",
    "pipeline.fit(X_train, y_train)\n",
    "y_pred = pipeline.predict(X_test)\n",
    "\n",
    "print(classification_report(y_test, y_pred))"
   ]
  }
 ],
 "metadata": {
  "kernelspec": {
   "display_name": "venv",
   "language": "python",
   "name": "python3"
  },
  "language_info": {
   "codemirror_mode": {
    "name": "ipython",
    "version": 3
   },
   "file_extension": ".py",
   "mimetype": "text/x-python",
   "name": "python",
   "nbconvert_exporter": "python",
   "pygments_lexer": "ipython3",
   "version": "3.12.4"
  }
 },
 "nbformat": 4,
 "nbformat_minor": 5
}
